{
 "cells": [
  {
   "cell_type": "markdown",
   "id": "573792be",
   "metadata": {},
   "source": [
    "# Overview "
   ]
  },
  {
   "cell_type": "markdown",
   "id": "47f4c4d7",
   "metadata": {},
   "source": [
    "We are using pandas to import three data tables to clean and transform them before exporting to Postgres. Each table includes data involving financial information by each state in the U.S., such as housing, income, and poverty rates. "
   ]
  },
  {
   "cell_type": "code",
   "execution_count": null,
   "id": "030c0194",
   "metadata": {},
   "outputs": [],
   "source": [
    "import pandas as pd\n",
    "import numpy as np"
   ]
  },
  {
   "cell_type": "code",
   "execution_count": null,
   "id": "431e67d7",
   "metadata": {},
   "outputs": [],
   "source": [
    "# Loading housing data CSV\n",
    "housing_table = pd.read_csv(\"Resources/housing_prices.csv\")"
   ]
  },
  {
   "cell_type": "code",
   "execution_count": null,
   "id": "f3e9fdff",
   "metadata": {},
   "outputs": [],
   "source": [
    "# Setting up url for extraction\n",
    "poverty_url = \"https://en.wikipedia.org/wiki/List_of_U.S._states_and_territories_by_poverty_rate\""
   ]
  },
  {
   "cell_type": "code",
   "execution_count": null,
   "id": "3b76bb2f",
   "metadata": {},
   "outputs": [],
   "source": [
    "# Setting up url for extraction\n",
    "income_url = \"https://en.wikipedia.org/wiki/List_of_U.S._states_and_territories_by_income\""
   ]
  },
  {
   "cell_type": "markdown",
   "id": "c0932ff1",
   "metadata": {},
   "source": [
    "# Extract"
   ]
  },
  {
   "cell_type": "code",
   "execution_count": null,
   "id": "57f7a570",
   "metadata": {},
   "outputs": [],
   "source": [
    "# Extracting poverty table from html\n",
    "table = pd.read_html(poverty_url)"
   ]
  },
  {
   "cell_type": "code",
   "execution_count": null,
   "id": "3d02cd66",
   "metadata": {},
   "outputs": [],
   "source": [
    "poverty_table = table[0]"
   ]
  },
  {
   "cell_type": "code",
   "execution_count": null,
   "id": "0d9c6121",
   "metadata": {},
   "outputs": [],
   "source": [
    "# Extracting income table from html\n",
    "table = pd.read_html(income_url)"
   ]
  },
  {
   "cell_type": "code",
   "execution_count": null,
   "id": "d70a9e14",
   "metadata": {},
   "outputs": [],
   "source": [
    "income_table = table[1]"
   ]
  },
  {
   "cell_type": "markdown",
   "id": "aee47064",
   "metadata": {},
   "source": [
    "# Transform"
   ]
  },
  {
   "cell_type": "markdown",
   "id": "9d6ef9ec",
   "metadata": {},
   "source": [
    "### Transform - Housing"
   ]
  },
  {
   "cell_type": "markdown",
   "id": "d635910b",
   "metadata": {},
   "source": [
    "We transformed our housing price data here."
   ]
  },
  {
   "cell_type": "code",
   "execution_count": null,
   "id": "14008688",
   "metadata": {},
   "outputs": [],
   "source": [
    "# Created dictionary to make transformation process simpler\n",
    "state_codes = {\n",
    "    'Alabama': 'AL', 'Alaska': 'AK', 'Arizona': 'AZ', 'Arkansas': 'AR', 'California': 'CA', 'Colorado': 'CO',\n",
    "    'Connecticut': 'CT', 'Delaware': 'DE', 'Florida': 'FL', 'Georgia': 'GA', 'Hawaii': 'HI', 'Idaho': 'ID',\n",
    "    'Illinois': 'IL', 'Indiana': 'IN', 'Iowa': 'IA', 'Kansas': 'KS', 'Kentucky': 'KY', 'Louisiana': 'LA',\n",
    "    'Maine': 'ME', 'Maryland': 'MD', 'Massachusetts': 'MA', 'Michigan': 'MI', 'Minnesota': 'MN', 'Mississippi': 'MS',\n",
    "    'Missouri': 'MO', 'Montana': 'MT', 'Nebraska': 'NE', 'Nevada': 'NV', 'New Hampshire': 'NH', 'New Jersey': 'NJ',\n",
    "    'New Mexico': 'NM', 'New York': 'NY', 'North Carolina': 'NC', 'North Dakota': 'ND', 'Ohio': 'OH', 'Oklahoma': 'OK',\n",
    "    'Oregon': 'OR', 'Pennsylvania': 'PA', 'Rhode Island': 'RI', 'South Carolina': 'SC', 'South Dakota': 'SD',\n",
    "    'Tennessee': 'TN', 'Texas': 'TX', 'Utah': 'UT', 'Vermont': 'VT', 'Virginia': 'VA', 'Washington': 'WA',\n",
    "    'West Virginia': 'WV', 'Wisconsin': 'WI', 'Wyoming': 'WY'}    "
   ]
  },
  {
   "cell_type": "code",
   "execution_count": null,
   "id": "cce28b29",
   "metadata": {},
   "outputs": [],
   "source": [
    "# Added state code\n",
    "housing_table['state'] = housing_table['State'].replace(state_codes)"
   ]
  },
  {
   "cell_type": "code",
   "execution_count": null,
   "id": "076473ea",
   "metadata": {},
   "outputs": [],
   "source": [
    "# Dropped the old state and Zillow columns\n",
    "housing_dropped_df = housing_table.drop(columns = [\"State\", \"medianValueZillow\"])"
   ]
  },
  {
   "cell_type": "code",
   "execution_count": null,
   "id": "68470f77",
   "metadata": {},
   "outputs": [],
   "source": [
    "# Renamed median price column\n",
    "housing_rename_df = housing_dropped_df.rename(columns = {'MedianValue': 'median_home_price'})"
   ]
  },
  {
   "cell_type": "code",
   "execution_count": null,
   "id": "c82c9411",
   "metadata": {},
   "outputs": [],
   "source": [
    "# Set state code as index\n",
    "housing_df = housing_rename_df.set_index('state')"
   ]
  },
  {
   "cell_type": "markdown",
   "id": "5b8ccfa7",
   "metadata": {},
   "source": [
    "### Transform - Poverty"
   ]
  },
  {
   "cell_type": "markdown",
   "id": "c4f89e3d",
   "metadata": {},
   "source": [
    "Next, we transformed our poverty data by state."
   ]
  },
  {
   "cell_type": "code",
   "execution_count": null,
   "id": "60cb16ed",
   "metadata": {},
   "outputs": [],
   "source": [
    "# Added state code\n",
    "poverty_table['state'] = poverty_table['State or Territory'].replace(state_codes)"
   ]
  },
  {
   "cell_type": "code",
   "execution_count": null,
   "id": "0511619f",
   "metadata": {},
   "outputs": [],
   "source": [
    "# Dropped old state labels and raw population total columns\n",
    "poverty_dropped_df = poverty_table.drop(columns = [\"State or Territory\", \"Population\", \"Population underPoverty Line\"])"
   ]
  },
  {
   "cell_type": "code",
   "execution_count": null,
   "id": "c47519fb",
   "metadata": {},
   "outputs": [],
   "source": [
    "# Dropped rows that were null or incongruent (territories, U.S. total)\n",
    "poverty_dropped_rows_df = poverty_dropped_df.drop(axis = 0, index = [0, 1, 9, 53])"
   ]
  },
  {
   "cell_type": "code",
   "execution_count": null,
   "id": "5c0df60a",
   "metadata": {},
   "outputs": [],
   "source": [
    "# Renamed poverty rate column\n",
    "poverty_rename_df = poverty_dropped_rows_df.rename(columns = {'Poverty Rate': 'poverty_rate'})"
   ]
  },
  {
   "cell_type": "code",
   "execution_count": null,
   "id": "4a0b1c47",
   "metadata": {},
   "outputs": [],
   "source": [
    "# Set state code as index\n",
    "poverty_df = poverty_rename_df.set_index('state')"
   ]
  },
  {
   "cell_type": "markdown",
   "id": "5b95e5a6",
   "metadata": {},
   "source": [
    "### Transform - Income"
   ]
  },
  {
   "cell_type": "markdown",
   "id": "aee6bf90",
   "metadata": {},
   "source": [
    "Finally, we transformed the income data by state."
   ]
  },
  {
   "cell_type": "code",
   "execution_count": null,
   "id": "050adb62",
   "metadata": {},
   "outputs": [],
   "source": [
    "# Added state code\n",
    "income_table['state'] = income_table['States and Washington, D.C.'].replace(state_codes)"
   ]
  },
  {
   "cell_type": "code",
   "execution_count": null,
   "id": "dce10fdd",
   "metadata": {},
   "outputs": [],
   "source": [
    "# Renamed column with messy name\n",
    "income_aagr_df = income_table.rename(columns = {income_table.columns[12]: 'avg_income_growth_rate'})"
   ]
  },
  {
   "cell_type": "code",
   "execution_count": null,
   "id": "8963ecaf",
   "metadata": {},
   "outputs": [],
   "source": [
    "# Made a copy dataframe with columns we wanted to keep\n",
    "income_dropped_df = income_aagr_df[['state', '2019', 'avg_income_growth_rate']].copy()"
   ]
  },
  {
   "cell_type": "code",
   "execution_count": null,
   "id": "8bf58336",
   "metadata": {},
   "outputs": [],
   "source": [
    "# Dropped rows that were not needed\n",
    "income_dropped_rows_df = income_dropped_df.drop(axis = 0, index = [0, 1])"
   ]
  },
  {
   "cell_type": "code",
   "execution_count": null,
   "id": "76d20306",
   "metadata": {},
   "outputs": [],
   "source": [
    "# Renamed column\n",
    "income_rename_df = income_dropped_rows_df.rename(columns = {'2019': 'median_income'})"
   ]
  },
  {
   "cell_type": "code",
   "execution_count": null,
   "id": "b2768aa1",
   "metadata": {},
   "outputs": [],
   "source": [
    "# Formatted median incomes to integers without $ or ,\n",
    "income_rename_df['median_income'] = income_rename_df['median_income'].apply(lambda x: x.replace('$', '')).apply(lambda x: x.replace(',', '')).astype(np.int64)"
   ]
  },
  {
   "cell_type": "code",
   "execution_count": null,
   "id": "90dd02e2",
   "metadata": {},
   "outputs": [],
   "source": [
    "# Set state code as index\n",
    "income_df = income_rename_df.set_index('state')"
   ]
  }
 ],
 "metadata": {
  "kernelspec": {
   "display_name": "Python 3 (ipykernel)",
   "language": "python",
   "name": "python3"
  },
  "language_info": {
   "codemirror_mode": {
    "name": "ipython",
    "version": 3
   },
   "file_extension": ".py",
   "mimetype": "text/x-python",
   "name": "python",
   "nbconvert_exporter": "python",
   "pygments_lexer": "ipython3",
   "version": "3.8.13"
  }
 },
 "nbformat": 4,
 "nbformat_minor": 5
}
